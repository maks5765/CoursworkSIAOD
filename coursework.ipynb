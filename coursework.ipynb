{
 "cells": [
  {
   "cell_type": "code",
   "execution_count": 1,
   "metadata": {},
   "outputs": [
    {
     "name": "stdout",
     "output_type": "stream",
     "text": [
      "Общая выручка магазина: 211500000.0\n",
      "Товар, который был продан наибольшее количество раз: Порш Тайкан\n",
      "Товар, который принес наибольшую выручку: Порш Тайкан\n",
      "{'Название товара': 'Зикр001', 'Количество продаж': 3, 'Общая стоимость': 12000000.0, 'Доля в выручке': 0.05673758865248227}\n",
      "{'Название товара': 'Зикр009', 'Количество продаж': 2, 'Общая стоимость': 18000000.0, 'Доля в выручке': 0.0851063829787234}\n",
      "{'Название товара': 'ЗикрХ', 'Количество продаж': 3, 'Общая стоимость': 9000000.0, 'Доля в выручке': 0.0425531914893617}\n",
      "{'Название товара': 'Зикр007', 'Количество продаж': 1, 'Общая стоимость': 13000000.0, 'Доля в выручке': 0.061465721040189124}\n",
      "{'Название товара': 'Порш Тайкан', 'Количество продаж': 5, 'Общая стоимость': 50000000.0, 'Доля в выручке': 0.2364066193853428}\n",
      "{'Название товара': 'Порш Макан', 'Количество продаж': 3, 'Общая стоимость': 16500000.0, 'Доля в выручке': 0.07801418439716312}\n",
      "{'Название товара': 'Тесла модел 3', 'Количество продаж': 5, 'Общая стоимость': 15000000.0, 'Доля в выручке': 0.07092198581560284}\n",
      "{'Название товара': 'BMW i7x drive e60', 'Количество продаж': 2, 'Общая стоимость': 38000000.0, 'Доля в выручке': 0.17966903073286053}\n",
      "{'Название товара': 'Мерседес EQ', 'Количество продаж': 3, 'Общая стоимость': 39000000.0, 'Доля в выручке': 0.18439716312056736}\n",
      "{'Название товара': 'Тесла Плейд', 'Количество продаж': 1, 'Общая стоимость': 1000000.0, 'Доля в выручке': 0.004728132387706856}\n"
     ]
    }
   ],
   "source": [
    "import csv\n",
    "from collections import defaultdict\n",
    "\n",
    "# Чтение CSV файла\n",
    "try:\n",
    "    with open(\"C:\\\\Users\\\\Salin\\\\.vscode-cli\\\\coursework\\\\saves.csv\", 'r', encoding='utf-8') as file:\n",
    "        reader = csv.DictReader(file)\n",
    "        data = list(reader)\n",
    "except FileNotFoundError:\n",
    "    print(\"Файл не найден.\")\n",
    "    exit()\n",
    "except Exception as e:\n",
    "    print(\"Ошибка при чтении файла:\", e)\n",
    "    exit()\n",
    "\n",
    "# Проверка на пустой файл\n",
    "if not data:\n",
    "    print(\"Файл пуст.\")\n",
    "    exit()\n",
    "\n",
    "# Инициализация словарей для хранения данных\n",
    "product_sales = defaultdict(int)\n",
    "product_revenue = defaultdict(int)\n",
    "\n",
    "# Рассчёт общей выручки магазина и количества продаж для каждого товара\n",
    "total_revenue = 0\n",
    "for row in data:\n",
    "    try:\n",
    "        product_name = row['Название товара']\n",
    "        sales_count = int(row['Количество продаж'])\n",
    "        total_cost = float(row['Общая стоимость'])\n",
    "    except ValueError:\n",
    "        print(\"Некорректные данные в строке:\", row)\n",
    "        continue\n",
    "\n",
    "    product_sales[product_name] += sales_count\n",
    "    product_revenue[product_name] += total_cost\n",
    "    total_revenue += total_cost\n",
    "    \n",
    "# Вывод общей выручки\n",
    "print(f'Общая выручка магазина: {total_revenue}')\n",
    "\n",
    "# Нахождение товара, который был продан наибольшее количество раз\n",
    "most_sold_product = max(product_sales, key=product_sales.get)\n",
    "print(f'Товар, который был продан наибольшее количество раз: {most_sold_product}')\n",
    "\n",
    "# Нахождение товара, который принес наибольшую выручку\n",
    "most_revenue_product = max(product_revenue, key=product_revenue.get)\n",
    "print(f'Товар, который принес наибольшую выручку: {most_revenue_product}')\n",
    "\n",
    "# Составление отчёта\n",
    "report = []\n",
    "for product in product_sales:\n",
    "    report.append({\n",
    "        'Название товара': product,\n",
    "        'Количество продаж': product_sales[product],\n",
    "        'Общая стоимость': product_revenue[product],\n",
    "        'Доля в выручке': product_revenue[product] / total_revenue\n",
    "    })\n",
    " \n",
    "\n",
    "# Вывод отчёта\n",
    "for row in report:\n",
    "    print(row)"
   ]
  }
 ],
 "metadata": {
  "kernelspec": {
   "display_name": "Python 3",
   "language": "python",
   "name": "python3"
  },
  "language_info": {
   "codemirror_mode": {
    "name": "ipython",
    "version": 3
   },
   "file_extension": ".py",
   "mimetype": "text/x-python",
   "name": "python",
   "nbconvert_exporter": "python",
   "pygments_lexer": "ipython3",
   "version": "3.9.5"
  }
 },
 "nbformat": 4,
 "nbformat_minor": 2
}
